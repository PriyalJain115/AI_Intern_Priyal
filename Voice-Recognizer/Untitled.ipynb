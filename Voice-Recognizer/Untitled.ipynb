{
 "cells": [
  {
   "cell_type": "code",
   "execution_count": 1,
   "id": "f0b26739",
   "metadata": {},
   "outputs": [
    {
     "name": "stderr",
     "output_type": "stream",
     "text": [
      "C:\\Users\\USER\\anaconda3\\envs\\tf\\lib\\site-packages\\torchaudio\\backend\\utils.py:62: UserWarning: No audio backend is available.\n",
      "  warnings.warn(\"No audio backend is available.\")\n"
     ]
    }
   ],
   "source": [
    "dependencies = ['torch', 'torchaudio']\n",
    "import torch\n",
    "import json\n",
    "import os\n",
    "from utils_vad import (init_jit_model,\n",
    "                       get_speech_timestamps,\n",
    "                       get_number_ts,\n",
    "                       get_language,\n",
    "                       get_language_and_group,\n",
    "                       save_audio,\n",
    "                       read_audio,\n",
    "                       VADIterator,\n",
    "                       collect_chunks,\n",
    "                       drop_chunks,\n",
    "                       Validator,\n",
    "                       OnnxWrapper)"
   ]
  },
  {
   "cell_type": "code",
   "execution_count": 2,
   "id": "9d6a3727",
   "metadata": {},
   "outputs": [],
   "source": [
    "def versiontuple(v):\n",
    "    splitted = v.split('+')[0].split(\".\")\n",
    "    version_list = []\n",
    "    for i in splitted:\n",
    "        try:\n",
    "            version_list.append(int(i))\n",
    "        except:\n",
    "            version_list.append(0)\n",
    "    return tuple(version_list)"
   ]
  },
  {
   "cell_type": "code",
   "execution_count": 3,
   "id": "b41a2428",
   "metadata": {},
   "outputs": [],
   "source": [
    "def silero_vad(onnx=False, force_onnx_cpu=False):\n",
    "    \"\"\"Silero Voice Activity Detector\n",
    "    Returns a model with a set of utils\n",
    "    Please see https://github.com/snakers4/silero-vad for usage examples\n",
    "    \"\"\"\n",
    "\n",
    "    if not onnx:\n",
    "        installed_version = torch.__version__\n",
    "        supported_version = '1.12.0'\n",
    "        if versiontuple(installed_version) < versiontuple(supported_version):\n",
    "            raise Exception(f'Please install torch {supported_version} or greater ({installed_version} installed)')\n",
    "\n",
    "    model_dir = os.path.join(os.path.dirname(__file__), 'files')\n",
    "    if onnx:\n",
    "        model = OnnxWrapper(os.path.join(model_dir, 'silero_vad.onnx'), force_onnx_cpu)\n",
    "    else:\n",
    "        model = init_jit_model(os.path.join(model_dir, 'silero_vad.jit'))\n",
    "    utils = (get_speech_timestamps,\n",
    "             save_audio,\n",
    "             read_audio,\n",
    "             VADIterator,\n",
    "             collect_chunks)\n",
    "\n",
    "    return model, utils"
   ]
  },
  {
   "cell_type": "code",
   "execution_count": 4,
   "id": "d3ec0b01",
   "metadata": {},
   "outputs": [],
   "source": [
    "def silero_number_detector(onnx=False, force_onnx_cpu=False):\n",
    "    \"\"\"Silero Number Detector\n",
    "    Returns a model with a set of utils\n",
    "    Please see https://github.com/snakers4/silero-vad for usage examples\n",
    "    \"\"\"\n",
    "    raise NotImplementedError('This model has been deprecated and is not supported anymore.')\n",
    "    if onnx:\n",
    "        url = 'https://models.silero.ai/vad_models/number_detector.onnx'\n",
    "    else:\n",
    "        url = 'https://models.silero.ai/vad_models/number_detector.jit'\n",
    "    model = Validator(url, force_onnx_cpu)\n",
    "    utils = (get_number_ts,\n",
    "             save_audio,\n",
    "             read_audio,\n",
    "             collect_chunks,\n",
    "             drop_chunks)\n",
    "\n",
    "    return model, utils"
   ]
  },
  {
   "cell_type": "code",
   "execution_count": 5,
   "id": "e9a10213",
   "metadata": {},
   "outputs": [],
   "source": [
    "def silero_lang_detector(onnx=False, force_onnx_cpu=False):\n",
    "    \"\"\"Silero Language Classifier\n",
    "    Returns a model with a set of utils\n",
    "    Please see https://github.com/snakers4/silero-vad for usage examples\n",
    "    \"\"\"\n",
    "    raise NotImplementedError('This model has been deprecated and is not supported anymore.')\n",
    "    if onnx:\n",
    "        url = 'https://models.silero.ai/vad_models/number_detector.onnx'\n",
    "    else:\n",
    "        url = 'https://models.silero.ai/vad_models/number_detector.jit'\n",
    "    model = Validator(url, force_onnx_cpu)\n",
    "    utils = (get_language,\n",
    "             read_audio)\n",
    "\n",
    "    return model, utils"
   ]
  },
  {
   "cell_type": "code",
   "execution_count": 6,
   "id": "e4f4b656",
   "metadata": {},
   "outputs": [],
   "source": [
    "def silero_lang_detector_95(onnx=False, force_onnx_cpu=False):\n",
    "    \"\"\"Silero Language Classifier (95 languages)\n",
    "    Returns a model with a set of utils\n",
    "    Please see https://github.com/snakers4/silero-vad for usage examples\n",
    "    \"\"\"\n",
    "    raise NotImplementedError('This model has been deprecated and is not supported anymore.')\n",
    "    if onnx:\n",
    "        url = 'https://models.silero.ai/vad_models/lang_classifier_95.onnx'\n",
    "    else:\n",
    "        url = 'https://models.silero.ai/vad_models/lang_classifier_95.jit'\n",
    "    model = Validator(url, force_onnx_cpu)\n",
    "\n",
    "    model_dir = os.path.join(os.path.dirname(__file__), 'files')\n",
    "    with open(os.path.join(model_dir, 'lang_dict_95.json'), 'r') as f:\n",
    "        lang_dict = json.load(f)\n",
    "\n",
    "    with open(os.path.join(model_dir, 'lang_group_dict_95.json'), 'r') as f:\n",
    "        lang_group_dict = json.load(f)\n",
    "\n",
    "    utils = (get_language_and_group, read_audio)\n",
    "\n",
    "    return model, lang_dict, lang_group_dict, utils\n"
   ]
  },
  {
   "cell_type": "code",
   "execution_count": null,
   "id": "d3b46681",
   "metadata": {},
   "outputs": [],
   "source": []
  }
 ],
 "metadata": {
  "kernelspec": {
   "display_name": "Python 3 (ipykernel)",
   "language": "python",
   "name": "python3"
  },
  "language_info": {
   "codemirror_mode": {
    "name": "ipython",
    "version": 3
   },
   "file_extension": ".py",
   "mimetype": "text/x-python",
   "name": "python",
   "nbconvert_exporter": "python",
   "pygments_lexer": "ipython3",
   "version": "3.7.15"
  }
 },
 "nbformat": 4,
 "nbformat_minor": 5
}
